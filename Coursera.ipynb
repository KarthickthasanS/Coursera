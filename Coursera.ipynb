{
  "nbformat": 4,
  "nbformat_minor": 0,
  "metadata": {
    "colab": {
      "provenance": []
    },
    "kernelspec": {
      "name": "python3",
      "display_name": "Python 3"
    },
    "language_info": {
      "name": "python"
    }
  },
  "cells": [
    {
      "cell_type": "markdown",
      "source": [
        "# Data Science Notebook\n"
      ],
      "metadata": {
        "id": "T2vY_zcFgogD"
      }
    },
    {
      "cell_type": "markdown",
      "source": [
        "## Introduction\n",
        "This notebook explores various aspects of data science, including languages, libraries, and tools commonly used in the field.\n",
        "\n",
        "\n",
        "\n"
      ],
      "metadata": {
        "id": "P8_-068-gtgk"
      }
    },
    {
      "cell_type": "markdown",
      "source": [
        "## Data Science Languages\n",
        "- Python\n",
        "- R\n",
        "- SQL\n"
      ],
      "metadata": {
        "id": "DFVVFUh7g1rU"
      }
    },
    {
      "cell_type": "markdown",
      "source": [
        "## Data Science Libraries\n",
        "- NumPy\n",
        "- Pandas\n",
        "- Matplotlib\n",
        "- Scikit-learn\n"
      ],
      "metadata": {
        "id": "zDfOmcqAhMHp"
      }
    },
    {
      "cell_type": "markdown",
      "source": [
        "## Data Science Tools\n",
        "\n",
        "| Tool        | Description           |\n",
        "|-------------|-----------------------|\n",
        "| Jupyter     | Interactive notebooks |\n",
        "| TensorFlow  | Machine learning      |\n",
        "| Tableau     | Data visualization    |\n"
      ],
      "metadata": {
        "id": "DZelt3bahQ-o"
      }
    },
    {
      "cell_type": "markdown",
      "source": [
        "## Arithmetic Expression Examples\n",
        "Let's explore some basic arithmetic operations.\n"
      ],
      "metadata": {
        "id": "oZEecQOZhTfq"
      }
    },
    {
      "cell_type": "code",
      "source": [
        "# Multiply and add numbers\n",
        "a = 5\n",
        "b = 3\n",
        "result = (a * b) + (a + b)\n",
        "print(result)\n"
      ],
      "metadata": {
        "colab": {
          "base_uri": "https://localhost:8080/"
        },
        "id": "_UkHbiJshO3F",
        "outputId": "4b74d035-ef50-4bc4-def2-94e044ea472b"
      },
      "execution_count": 1,
      "outputs": [
        {
          "output_type": "stream",
          "name": "stdout",
          "text": [
            "23\n"
          ]
        }
      ]
    },
    {
      "cell_type": "code",
      "source": [
        "# Convert minutes to hours\n",
        "minutes = 120\n",
        "hours = minutes / 60\n",
        "print(hours)\n"
      ],
      "metadata": {
        "colab": {
          "base_uri": "https://localhost:8080/"
        },
        "id": "Oei5BBWWhLN_",
        "outputId": "bf6ac601-1ae2-4338-e512-1264f5db76a1"
      },
      "execution_count": 2,
      "outputs": [
        {
          "output_type": "stream",
          "name": "stdout",
          "text": [
            "2.0\n"
          ]
        }
      ]
    },
    {
      "cell_type": "markdown",
      "source": [
        "## Objectives\n",
        "- Learn about data science languages and libraries\n",
        "- Understand common data science tools\n",
        "- Practice basic arithmetic operations in Python\n"
      ],
      "metadata": {
        "id": "P6bBwfwohcEX"
      }
    },
    {
      "cell_type": "markdown",
      "source": [
        "## Author\n",
        "- Karthickthasan S\n"
      ],
      "metadata": {
        "id": "VMT_sXaNheky"
      }
    },
    {
      "cell_type": "code",
      "source": [],
      "metadata": {
        "id": "SxrKceuLg1T-"
      },
      "execution_count": null,
      "outputs": []
    },
    {
      "cell_type": "code",
      "execution_count": null,
      "metadata": {
        "id": "wUUtcYLsgYVw"
      },
      "outputs": [],
      "source": []
    }
  ]
}